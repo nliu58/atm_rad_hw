{
 "cells": [
  {
   "cell_type": "code",
   "execution_count": 1,
   "metadata": {},
   "outputs": [
    {
     "data": {
      "text/plain": [
       "<Figure size 640x480 with 1 Axes>"
      ]
     },
     "metadata": {},
     "output_type": "display_data"
    }
   ],
   "source": [
    "import numpy as np\n",
    "import matplotlib.pyplot as plt\n",
    "def plank_fn(T, wavelength):\n",
    "    \"\"\"\n",
    "    Arguments:\n",
    "        T: float\n",
    "            temperature, in K\n",
    "        wavelength: float, list or array\n",
    "            wavelength, in um\n",
    "    Returns:\n",
    "        b: float, list or array\n",
    "            spectral density of electromagnetic radiation\n",
    "            emitted by a black body in thermal equilibrium\n",
    "            at a given temperature `T` at wavelength `wav`.\n",
    "    \"\"\"\n",
    "    from scipy.constants import Planck, c, k\n",
    "    wav = wavelength/1e6 # um to m\n",
    "    b = 2*Planck*(c**2)/(wav**5)/(np.exp((Planck*c)/(k*wav*T))-1) # unit: W·sr−1·m−3; see https://en.wikipedia.org/wiki/Planck%27s_law\n",
    "    return b/1e6 # unit: W·sr−1·m-2·um−1\n",
    "\n",
    "T = [200, 250, 300] # temperature in K\n",
    "wav = np.arange(0.1, 50, 0.001) # wavelength in um\n",
    "B = [plank_fn(t, wav) for t in T] # calculate radiation\n",
    "fn = '/home/nanfeng/Documents/atm_rad_asgmt/blackbody.png'\n",
    "# make a figure\n",
    "plt.figure()\n",
    "for t, b in zip(T, B):\n",
    "    plt.plot(wav, b, label='%d K' %t)\n",
    "plt.legend(fontsize=15)\n",
    "plt.xlim(0, 50)\n",
    "plt.ylim(0, 10)\n",
    "plt.xlabel('$\\lambda$($\\mu$m)', fontsize=15)\n",
    "plt.ylabel('$\\mathit{B}_\\lambda$[W/m$^2$ $\\mu$m Sr]', fontsize=15)\n",
    "plt.xticks(np.arange(0,51,10), fontsize=15)\n",
    "plt.yticks(np.arange(0,11,2), fontsize=15)\n",
    "plt.tick_params(axis='both', direction='in', top=True, right=True)\n",
    "plt.title('Planck function - N. Liu', fontsize=15)\n",
    "plt.text(20, 4.5, 'Blackbody Emission at\\nTerrestrial Temperatures', fontsize=15)\n",
    "plt.savefig(fn, dpi=600, bbox_inches='tight')\n",
    "plt.show()"
   ]
  },
  {
   "cell_type": "code",
   "execution_count": null,
   "metadata": {},
   "outputs": [],
   "source": []
  }
 ],
 "metadata": {
  "kernelspec": {
   "display_name": "Python 3",
   "language": "python",
   "name": "python3"
  },
  "language_info": {
   "codemirror_mode": {
    "name": "ipython",
    "version": 3
   },
   "file_extension": ".py",
   "mimetype": "text/x-python",
   "name": "python",
   "nbconvert_exporter": "python",
   "pygments_lexer": "ipython3",
   "version": "3.7.0"
  }
 },
 "nbformat": 4,
 "nbformat_minor": 2
}
